{
 "cells": [
  {
   "cell_type": "code",
   "execution_count": 1,
   "id": "a9205cf1",
   "metadata": {},
   "outputs": [],
   "source": [
    "import os\n",
    "import pandas as pd\n",
    "\n",
    "input_folder_path = \"translations/\"\n",
    "output_folder_federico_path = \"manual_evaluate_translations_federico/\"\n",
    "output_folder_gianmarco_path = \"manual_evaluate_translations_gianmarco/\"\n",
    "# Ensure output directories exist\n",
    "os.makedirs(output_folder_federico_path, exist_ok=True)\n",
    "os.makedirs(output_folder_gianmarco_path, exist_ok=True)\n",
    "\n",
    "for filename in os.listdir(input_folder_path):\n",
    "    if filename.endswith('.csv'):\n",
    "        input_path = os.path.join(input_folder_path, filename)\n",
    "        df = pd.read_csv(input_path)\n",
    "        \n",
    "        # Extract first 10 rows\n",
    "        first_10 = df.head(10)\n",
    "        output_federico = os.path.join(output_folder_federico_path, filename)\n",
    "        first_10.to_csv(output_federico, index=False)\n",
    "        \n",
    "        # Extract last 10 rows\n",
    "        last_10 = df.tail(10)\n",
    "        output_gianmarco = os.path.join(output_folder_gianmarco_path, filename)\n",
    "        last_10.to_csv(output_gianmarco, index=False)\n",
    "\n",
    "\n"
   ]
  },
  {
   "cell_type": "code",
   "execution_count": null,
   "id": "f4217801",
   "metadata": {},
   "outputs": [],
   "source": []
  }
 ],
 "metadata": {
  "kernelspec": {
   "display_name": "Python 3",
   "language": "python",
   "name": "python3"
  },
  "language_info": {
   "codemirror_mode": {
    "name": "ipython",
    "version": 3
   },
   "file_extension": ".py",
   "mimetype": "text/x-python",
   "name": "python",
   "nbconvert_exporter": "python",
   "pygments_lexer": "ipython3",
   "version": "3.10.11"
  }
 },
 "nbformat": 4,
 "nbformat_minor": 5
}
