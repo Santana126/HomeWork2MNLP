{
 "cells": [
  {
   "cell_type": "code",
   "execution_count": 2,
   "id": "ebd25f49",
   "metadata": {},
   "outputs": [],
   "source": [
    "generateCSVwithSamples = False"
   ]
  },
  {
   "cell_type": "code",
   "execution_count": 3,
   "id": "a9205cf1",
   "metadata": {},
   "outputs": [],
   "source": [
    "import os\n",
    "import pandas as pd\n",
    "\n",
    "\n",
    "folder_federico_path = \"manual_evaluate_translations_federico/\"\n",
    "folder_gianmarco_path = \"manual_evaluate_translations_gianmarco/\"\n",
    "\n",
    "if generateCSVwithSamples:\n",
    "    input_folder_path = \"translations/\"\n",
    "\n",
    "    os.makedirs(folder_federico_path, exist_ok=True)\n",
    "    os.makedirs(folder_gianmarco_path, exist_ok=True)\n",
    "\n",
    "    for filename in os.listdir(input_folder_path):\n",
    "        if filename.endswith('.csv'):\n",
    "            input_path = os.path.join(input_folder_path, filename)\n",
    "            df = pd.read_csv(input_path)\n",
    "            \n",
    "            # Extract first 10 rows\n",
    "            first_10 = df.head(10)\n",
    "            output_federico = os.path.join(folder_federico_path, filename)\n",
    "            first_10.to_csv(output_federico, index=False)\n",
    "            \n",
    "            # Extract last 10 rows\n",
    "            last_10 = df.tail(10)\n",
    "            output_gianmarco = os.path.join(folder_gianmarco_path, filename)\n",
    "            last_10.to_csv(output_gianmarco, index=False)\n"
   ]
  },
  {
   "cell_type": "code",
   "execution_count": 4,
   "id": "82edd566",
   "metadata": {},
   "outputs": [
    {
     "name": "stdout",
     "output_type": "stream",
     "text": [
      "Merged translation_cerbero_base.csv from both folders and saved to merged_valuation/translation_cerbero_base.csv\n",
      "Merged translation_cerbero_detailed.csv from both folders and saved to merged_valuation/translation_cerbero_detailed.csv\n",
      "Merged translation_cerbero_few_shot.csv from both folders and saved to merged_valuation/translation_cerbero_few_shot.csv\n",
      "Merged translation_cerbero_role-based.csv from both folders and saved to merged_valuation/translation_cerbero_role-based.csv\n",
      "Merged translation_cerbero_teacher_student.csv from both folders and saved to merged_valuation/translation_cerbero_teacher_student.csv\n",
      "Merged translation_gemma_base.csv from both folders and saved to merged_valuation/translation_gemma_base.csv\n",
      "Merged translation_gemma_detailed.csv from both folders and saved to merged_valuation/translation_gemma_detailed.csv\n",
      "Merged translation_gemma_few_shot.csv from both folders and saved to merged_valuation/translation_gemma_few_shot.csv\n",
      "Merged translation_gemma_role-based.csv from both folders and saved to merged_valuation/translation_gemma_role-based.csv\n",
      "Merged translation_gemma_teacher_student.csv from both folders and saved to merged_valuation/translation_gemma_teacher_student.csv\n",
      "Merged translation_llama3_base.csv from both folders and saved to merged_valuation/translation_llama3_base.csv\n",
      "Merged translation_llama3_detailed.csv from both folders and saved to merged_valuation/translation_llama3_detailed.csv\n",
      "Merged translation_llama3_few_shot.csv from both folders and saved to merged_valuation/translation_llama3_few_shot.csv\n",
      "Merged translation_llama3_role-based.csv from both folders and saved to merged_valuation/translation_llama3_role-based.csv\n",
      "Merged translation_llama3_teacher_student.csv from both folders and saved to merged_valuation/translation_llama3_teacher_student.csv\n"
     ]
    }
   ],
   "source": [
    "# Merge the csv files from both folders into a single CSV file\n",
    "def merge_csv_files(folder_path1, folder_path2):\n",
    "    merged_df = pd.DataFrame()\n",
    "    \n",
    "    for filename in os.listdir(folder_path1):\n",
    "        if filename.endswith('.csv'):\n",
    "            if filename in os.listdir(folder_path2):\n",
    "                path1 = os.path.join(folder_path1, filename)\n",
    "                path2 = os.path.join(folder_path2, filename)\n",
    "                \n",
    "                df1 = pd.read_csv(path1)\n",
    "                df2 = pd.read_csv(path2)\n",
    "                \n",
    "                # Merge the two dataframes\n",
    "                merged_df = pd.concat([merged_df, df1, df2], ignore_index=True)\n",
    "                # Save as csv\n",
    "                output_path = os.path.join(\"merged_valuation/\", filename)\n",
    "                os.makedirs(os.path.dirname(output_path), exist_ok=True)\n",
    "                merged_df.to_csv(output_path, index=False)\n",
    "                print(f\"Merged {filename} from both folders and saved to {output_path}\")\n",
    "                # Clear the merged_df for the next file\n",
    "                merged_df = pd.DataFrame()\n",
    "\n",
    "\n",
    "# Merge the CSV files from both folders\n",
    "merged_df = merge_csv_files(folder_federico_path, folder_gianmarco_path)\n"
   ]
  }
 ],
 "metadata": {
  "kernelspec": {
   "display_name": "Python 3",
   "language": "python",
   "name": "python3"
  },
  "language_info": {
   "codemirror_mode": {
    "name": "ipython",
    "version": 3
   },
   "file_extension": ".py",
   "mimetype": "text/x-python",
   "name": "python",
   "nbconvert_exporter": "python",
   "pygments_lexer": "ipython3",
   "version": "3.10.11"
  }
 },
 "nbformat": 4,
 "nbformat_minor": 5
}
